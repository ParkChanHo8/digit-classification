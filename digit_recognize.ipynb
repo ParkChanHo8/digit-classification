{
 "cells": [
  {
   "cell_type": "code",
   "execution_count": 1,
   "id": "7539a29e",
   "metadata": {},
   "outputs": [],
   "source": [
    "import pandas as pd\n",
    "import numpy as np\n",
    "import matplotlib.pyplot as plt\n",
    "from tqdm import tqdm"
   ]
  },
  {
   "cell_type": "code",
   "execution_count": 2,
   "id": "db99f927",
   "metadata": {},
   "outputs": [],
   "source": [
    "df = pd.read_csv('train.csv')"
   ]
  },
  {
   "cell_type": "code",
   "execution_count": 3,
   "id": "9ff0c0e3",
   "metadata": {},
   "outputs": [],
   "source": [
    "from sklearn.model_selection import train_test_split"
   ]
  },
  {
   "cell_type": "code",
   "execution_count": 4,
   "id": "9d2da26f",
   "metadata": {},
   "outputs": [],
   "source": [
    "X=df.iloc[:, 1:].values\n",
    "y=df.iloc[:, 0].values\n",
    "\n",
    "X_train, X_val, y_train, y_val = train_test_split(X,y, test_size=0.2, random_state=42, shuffle=True)"
   ]
  },
  {
   "cell_type": "code",
   "execution_count": 5,
   "id": "7322c466",
   "metadata": {},
   "outputs": [],
   "source": [
    "X_train = X_train / 255.0\n",
    "X_val = X_val / 255.0\n"
   ]
  },
  {
   "cell_type": "code",
   "execution_count": 6,
   "id": "8836d63d",
   "metadata": {},
   "outputs": [],
   "source": [
    "import torch\n",
    "import torch.nn as nn\n",
    "import torch.optim as optim"
   ]
  },
  {
   "cell_type": "code",
   "execution_count": 7,
   "id": "c8abeeb8",
   "metadata": {},
   "outputs": [],
   "source": [
    "class NeuralNetworkModel(nn.Module):\n",
    "    def __init__(self):\n",
    "        super(NeuralNetworkModel,self).__init__()\n",
    "        self.layers = nn.Sequential(\n",
    "            nn.Linear(784, 256),\n",
    "            nn.ReLU(),\n",
    "            nn.Linear(256, 128),\n",
    "            nn.ReLU(),\n",
    "            nn.Linear(128, 64),\n",
    "            nn.ReLU(),\n",
    "            nn.Linear(64, 32),\n",
    "            nn.ReLU(),\n",
    "            nn.Linear(32, 10), \n",
    "            nn.Softmax()\n",
    "        )\n",
    "\n",
    "\n",
    "    def forward(self, x):\n",
    "        return self.layers(x)\n",
    "\n",
    "model = NeuralNetworkModel()"
   ]
  },
  {
   "cell_type": "code",
   "execution_count": 8,
   "id": "d51e3895",
   "metadata": {},
   "outputs": [],
   "source": [
    "from torch.utils.data import TensorDataset, DataLoader\n",
    "\n",
    "train_dataset = TensorDataset(torch.tensor(X_train, dtype=torch.float32),\n",
    "                               torch.tensor(y_train, dtype=torch.long))\n",
    "train_loader = DataLoader(train_dataset, batch_size=64, shuffle=True)\n"
   ]
  },
  {
   "cell_type": "code",
   "execution_count": 9,
   "id": "47825486",
   "metadata": {},
   "outputs": [
    {
     "name": "stderr",
     "output_type": "stream",
     "text": [
      "c:\\Users\\Admin\\anaconda3\\Lib\\site-packages\\torch\\nn\\modules\\module.py:1751: UserWarning: Implicit dimension choice for softmax has been deprecated. Change the call to include dim=X as an argument.\n",
      "  return self._call_impl(*args, **kwargs)\n"
     ]
    },
    {
     "name": "stdout",
     "output_type": "stream",
     "text": [
      "Epoch 1, Loss: 1.6352, Validation Accuracy: 0.8187\n",
      "Epoch 2, Loss: 1.6375, Validation Accuracy: 0.8417\n",
      "Epoch 3, Loss: 1.6156, Validation Accuracy: 0.8530\n",
      "Epoch 4, Loss: 1.5119, Validation Accuracy: 0.9418\n",
      "Epoch 5, Loss: 1.5278, Validation Accuracy: 0.9483\n",
      "Epoch 6, Loss: 1.4925, Validation Accuracy: 0.9538\n",
      "Epoch 7, Loss: 1.5257, Validation Accuracy: 0.9611\n",
      "Epoch 8, Loss: 1.5021, Validation Accuracy: 0.9618\n",
      "Epoch 9, Loss: 1.4768, Validation Accuracy: 0.9575\n",
      "Epoch 10, Loss: 1.4981, Validation Accuracy: 0.9526\n",
      "Epoch 11, Loss: 1.4615, Validation Accuracy: 0.9651\n",
      "Epoch 12, Loss: 1.4712, Validation Accuracy: 0.9680\n",
      "Epoch 13, Loss: 1.5035, Validation Accuracy: 0.9655\n",
      "Epoch 14, Loss: 1.4922, Validation Accuracy: 0.9696\n",
      "Epoch 15, Loss: 1.5080, Validation Accuracy: 0.9650\n",
      "Epoch 16, Loss: 1.4612, Validation Accuracy: 0.9710\n",
      "Epoch 17, Loss: 1.4768, Validation Accuracy: 0.9699\n",
      "Epoch 18, Loss: 1.4612, Validation Accuracy: 0.9690\n",
      "Epoch 19, Loss: 1.4612, Validation Accuracy: 0.9736\n",
      "Epoch 20, Loss: 1.5080, Validation Accuracy: 0.9724\n"
     ]
    }
   ],
   "source": [
    "loss_fn = nn.CrossEntropyLoss()\n",
    "optimizer = torch.optim.Adam(model.parameters(), lr=0.001)\n",
    "scheduler = torch.optim.lr_scheduler.StepLR(optimizer, step_size=10, gamma=0.5)\n",
    "\n",
    "# Training loop\n",
    "num_epochs = 20\n",
    "\n",
    "# for epoch in range(num_epochs):\n",
    "#     model.train()\n",
    "#     optimizer.zero_grad()      # Clear previous gradients\n",
    "#     outputs = model(torch.tensor(X_train, dtype=torch.float32))   # Forward pass\n",
    "#     loss = loss_fn(outputs, torch.tensor(y_train, dtype=torch.long))  # Compute loss\n",
    "#     loss.backward()            # Backward pass\n",
    "#     optimizer.step() \n",
    "\n",
    "for epoch in range(num_epochs):\n",
    "    model.train()\n",
    "    epoch_loss = 0\n",
    "    for batch_X, batch_y in train_loader:\n",
    "        optimizer.zero_grad()\n",
    "        outputs = model(batch_X)\n",
    "        loss = loss_fn(outputs, batch_y)\n",
    "        loss.backward()\n",
    "        optimizer.step()\n",
    "        epoch_loss += loss.item()\n",
    "\n",
    "    scheduler.step()\n",
    "\n",
    "    #val\n",
    "    model.eval()\n",
    "    with torch.no_grad():\n",
    "        val_outputs = model(torch.tensor(X_val, dtype=torch.float32))\n",
    "        val_preds = torch.argmax(val_outputs, dim=1)\n",
    "        acc = (val_preds.numpy() == y_val).mean()\n",
    "    \n",
    "    print(f\"Epoch {epoch+1}, Loss: {loss.item():.4f}, Validation Accuracy: {acc:.4f}\")\n",
    "   \n",
    "\n",
    "    "
   ]
  },
  {
   "cell_type": "code",
   "execution_count": 10,
   "id": "aa7f6cc1",
   "metadata": {},
   "outputs": [],
   "source": [
    "# Inference\n",
    "model.eval()\n",
    "test_outputs = model(torch.tensor(X_val, dtype=torch.float32))\n",
    "preds = torch.argmax(test_outputs, dim=1)\n"
   ]
  },
  {
   "cell_type": "code",
   "execution_count": 14,
   "id": "e5db1eed",
   "metadata": {},
   "outputs": [
    {
     "data": {
      "image/png": "[encoded data removed]",
      "text/plain": [
       "<Figure size 640x480 with 1 Axes>"
      ]
     },
     "metadata": {},
     "output_type": "display_data"
    }
   ],
   "source": [
    "rand_idx = np.random.randint(0, len(X_val))\n",
    "x_sample = X_val[rand_idx, :]\n",
    "\n",
    "with torch.no_grad():\n",
    "    x_tensor = torch.tensor(x_sample, dtype=torch.float32).unsqueeze(0)  # (1, 784)\n",
    "    pred = model(x_tensor)\n",
    "\n",
    "x_sample = x_sample.reshape(28, 28)\n",
    "plt.imshow(x_sample, cmap='gray')\n",
    "plt.title(f\"Predicted: {torch.argmax(pred).item()}, True: {y_val[rand_idx]}\")\n",
    "plt.show()\n",
    "\n",
    "\n",
    "#print(f\"Logits: {pred}\")\n"
   ]
  },
  {
   "cell_type": "code",
   "execution_count": null,
   "id": "130b09e8",
   "metadata": {},
   "outputs": [],
   "source": []
  }
 ],
 "metadata": {
  "kernelspec": {
   "display_name": "Python 3",
   "language": "python",
   "name": "python3"
  },
  "language_info": {
   "codemirror_mode": {
    "name": "ipython",
    "version": 3
   },
   "file_extension": ".py",
   "mimetype": "text/x-python",
   "name": "python",
   "nbconvert_exporter": "python",
   "pygments_lexer": "ipython3",
   "version": "3.12.4"
  }
 },
 "nbformat": 4,
 "nbformat_minor": 5
}
